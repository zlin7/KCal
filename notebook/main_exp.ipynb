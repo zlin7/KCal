{
 "cells": [
  {
   "cell_type": "code",
   "execution_count": 1,
   "id": "modular-magic",
   "metadata": {},
   "outputs": [],
   "source": [
    "import sys, os; sys.path.append(os.path.abspath(\"../\"));\n",
    "from importlib import reload\n",
    "import pickle\n",
    "\n",
    "import matplotlib.pyplot as plt\n",
    "import pandas as pd, numpy as np, torch\n",
    "import seaborn as sns\n",
    "\n",
    "import _settings\n",
    "from _settings import CIFAR10_NAME, CIFAR100_NAME, SVHN_NAME, IIICSup_NAME, ECG_NAME, ISRUC_NAME\n",
    "import utils.utils as utils\n",
    "import persist_to_disk as ptd\n",
    "ptd.config.set_project_path(os.path.abspath(\"../\"))\n",
    "import pipeline.main\n",
    "import pipeline.evaluate as peval\n",
    "import data.dataloader as dld\n",
    "\n",
    "\n",
    "%matplotlib inline\n",
    "\n",
    "NBINS = 20"
   ]
  },
  {
   "cell_type": "code",
   "execution_count": 2,
   "id": "lesbian-chaos",
   "metadata": {},
   "outputs": [],
   "source": [
    "DATASET = CIFAR10_NAME\n",
    "DNN = 'ViT'\n",
    "suffix = '' # '-pat' or '' for healthcare datasets\n",
    "NCLASS = dld.get_nclasses(DATASET)"
   ]
  },
  {
   "cell_type": "code",
   "execution_count": 4,
   "id": "durable-fellowship",
   "metadata": {},
   "outputs": [],
   "source": [
    "fit_bw_Fold = 20 # number of folds in cross-validation for bandwidth selection \n",
    "if DATASET in {CIFAR10_NAME, CIFAR100_NAME, SVHN_NAME}:\n",
    "    _make_split = lambda seed: seed\n",
    "    datakwargs={'resize_for_pretrained_model': True}\n",
    "else:\n",
    "    if suffix == '-pat':\n",
    "        if DATASET == _settings.IIICSup_NAME:\n",
    "            _make_split = lambda seed: {\"seed\": seed, 'val': 20, 'test': 80}\n",
    "            datakwargs={'majority_only': True}\n",
    "        else:\n",
    "            assert DATASET == _settings.ISRUC_NAME\n",
    "            _make_split = lambda seed: {\"seed\": seed, 'val': 6, 'test': 24}\n",
    "            fit_bw_Fold = 6 # this is 6 only for ISRUC-pat as it contains only 6 patients in the calibration set.\n",
    "            datakwargs={}\n",
    "    else:\n",
    "        assert suffix == ''\n",
    "        _make_split = lambda seed: {\"seed\": seed, 'val': 5, 'test': 95}\n",
    "        if DATASET == _settings.IIICSup_NAME:\n",
    "            datakwargs={'majority_only': True, 'iid': True}\n",
    "        else:\n",
    "            datakwargs={'iid': True}"
   ]
  },
  {
   "cell_type": "code",
   "execution_count": 3,
   "id": "julian-swing",
   "metadata": {},
   "outputs": [],
   "source": [
    "# Update the key and trained key for the base DNN / kernel\n",
    "key = _settings._TRAINED_KEYS[(DATASET, DNN)]\n",
    "kernelkey = _settings._KERNEL_KEYS[(DATASET, DNN)]"
   ]
  },
  {
   "cell_type": "markdown",
   "id": "gorgeous-howard",
   "metadata": {},
   "source": [
    "# Uncalibrated"
   ]
  },
  {
   "cell_type": "code",
   "execution_count": 5,
   "id": "imported-field",
   "metadata": {},
   "outputs": [
    {
     "data": {
      "text/html": [
       "<div>\n",
       "<style scoped>\n",
       "    .dataframe tbody tr th:only-of-type {\n",
       "        vertical-align: middle;\n",
       "    }\n",
       "\n",
       "    .dataframe tbody tr th {\n",
       "        vertical-align: top;\n",
       "    }\n",
       "\n",
       "    .dataframe thead th {\n",
       "        text-align: right;\n",
       "    }\n",
       "</style>\n",
       "<table border=\"1\" class=\"dataframe\">\n",
       "  <thead>\n",
       "    <tr style=\"text-align: right;\">\n",
       "      <th></th>\n",
       "      <th>ece</th>\n",
       "      <th>ece_adapt</th>\n",
       "      <th>acc</th>\n",
       "      <th>cecet</th>\n",
       "      <th>cecet_adapt</th>\n",
       "      <th>brier_top1</th>\n",
       "      <th>brier</th>\n",
       "      <th>SKCE</th>\n",
       "      <th>KCE</th>\n",
       "      <th>NLLTorch</th>\n",
       "    </tr>\n",
       "  </thead>\n",
       "  <tbody>\n",
       "    <tr>\n",
       "      <th>mean</th>\n",
       "      <td>9.168949</td>\n",
       "      <td>9.152733</td>\n",
       "      <td>98.940000</td>\n",
       "      <td>3.420390</td>\n",
       "      <td>3.193899</td>\n",
       "      <td>0.017551</td>\n",
       "      <td>0.002708</td>\n",
       "      <td>0.122841</td>\n",
       "      <td>9.178768</td>\n",
       "      <td>0.124184</td>\n",
       "    </tr>\n",
       "    <tr>\n",
       "      <th>std</th>\n",
       "      <td>0.046673</td>\n",
       "      <td>0.048856</td>\n",
       "      <td>0.052915</td>\n",
       "      <td>0.013774</td>\n",
       "      <td>0.008351</td>\n",
       "      <td>0.000342</td>\n",
       "      <td>0.000073</td>\n",
       "      <td>0.006669</td>\n",
       "      <td>0.046179</td>\n",
       "      <td>0.001407</td>\n",
       "    </tr>\n",
       "  </tbody>\n",
       "</table>\n",
       "</div>"
      ],
      "text/plain": [
       "           ece  ece_adapt        acc     cecet  cecet_adapt  brier_top1  \\\n",
       "mean  9.168949   9.152733  98.940000  3.420390     3.193899    0.017551   \n",
       "std   0.046673   0.048856   0.052915  0.013774     0.008351    0.000342   \n",
       "\n",
       "         brier      SKCE       KCE  NLLTorch  \n",
       "mean  0.002708  0.122841  9.178768  0.124184  \n",
       "std   0.000073  0.006669  0.046179  0.001407  "
      ]
     },
     "execution_count": 5,
     "metadata": {},
     "output_type": "execute_result"
    }
   ],
   "source": [
    "uncal_res = {}\n",
    "for seed in range(10):\n",
    "    tP_, tY_ = pipeline.main.get_calibrated_preds(key, DATASET, dld.VALID, dld.TEST, datakwargs, baseline='uncal', resplit_seed=_make_split(seed))\n",
    "    uncal_res[seed] = peval.routine(tP_, tY_, nbins=NBINS)\n",
    "pd.DataFrame(uncal_res).T.describe().iloc[1:3]"
   ]
  },
  {
   "cell_type": "markdown",
   "id": "numeric-carroll",
   "metadata": {},
   "source": [
    "# KCal"
   ]
  },
  {
   "cell_type": "code",
   "execution_count": 6,
   "id": "friendly-cleaners",
   "metadata": {},
   "outputs": [
    {
     "data": {
      "text/html": [
       "<div>\n",
       "<style scoped>\n",
       "    .dataframe tbody tr th:only-of-type {\n",
       "        vertical-align: middle;\n",
       "    }\n",
       "\n",
       "    .dataframe tbody tr th {\n",
       "        vertical-align: top;\n",
       "    }\n",
       "\n",
       "    .dataframe thead th {\n",
       "        text-align: right;\n",
       "    }\n",
       "</style>\n",
       "<table border=\"1\" class=\"dataframe\">\n",
       "  <thead>\n",
       "    <tr style=\"text-align: right;\">\n",
       "      <th></th>\n",
       "      <th>ece</th>\n",
       "      <th>ece_adapt</th>\n",
       "      <th>acc</th>\n",
       "      <th>cecet</th>\n",
       "      <th>cecet_adapt</th>\n",
       "      <th>brier_top1</th>\n",
       "      <th>brier</th>\n",
       "      <th>SKCE</th>\n",
       "      <th>KCE</th>\n",
       "      <th>NLLTorch</th>\n",
       "    </tr>\n",
       "  </thead>\n",
       "  <tbody>\n",
       "    <tr>\n",
       "      <th>mean</th>\n",
       "      <td>0.408738</td>\n",
       "      <td>0.396804</td>\n",
       "      <td>98.984000</td>\n",
       "      <td>1.184326</td>\n",
       "      <td>0.737753</td>\n",
       "      <td>0.007497</td>\n",
       "      <td>0.001543</td>\n",
       "      <td>0.149565</td>\n",
       "      <td>0.770383</td>\n",
       "      <td>0.033477</td>\n",
       "    </tr>\n",
       "    <tr>\n",
       "      <th>std</th>\n",
       "      <td>0.104230</td>\n",
       "      <td>0.053051</td>\n",
       "      <td>0.087458</td>\n",
       "      <td>0.077218</td>\n",
       "      <td>0.071671</td>\n",
       "      <td>0.000494</td>\n",
       "      <td>0.000105</td>\n",
       "      <td>0.007519</td>\n",
       "      <td>0.073389</td>\n",
       "      <td>0.001874</td>\n",
       "    </tr>\n",
       "  </tbody>\n",
       "</table>\n",
       "</div>"
      ],
      "text/plain": [
       "           ece  ece_adapt        acc     cecet  cecet_adapt  brier_top1  \\\n",
       "mean  0.408738   0.396804  98.984000  1.184326     0.737753    0.007497   \n",
       "std   0.104230   0.053051   0.087458  0.077218     0.071671    0.000494   \n",
       "\n",
       "         brier      SKCE       KCE  NLLTorch  \n",
       "mean  0.001543  0.149565  0.770383  0.033477  \n",
       "std   0.000105  0.007519  0.073389  0.001874  "
      ]
     },
     "execution_count": 6,
     "metadata": {},
     "output_type": "execute_result"
    }
   ],
   "source": [
    "tkcalp_res = {}\n",
    "for seed in range(10):\n",
    "    res_df_ = pipeline.main.get_calibrated_preds(key, DATASET,  datakwargs=datakwargs,\n",
    "                                                kernel_name='trained', kernel_kwargs={\"key\": kernelkey, 'dataset': DATASET},\n",
    "                                                proj_name='trained', proj_kwargs={\"key\": kernelkey, 'dataset': DATASET},\n",
    "                                                cal_kwargs={'fit_bw_Fold': fit_bw_Fold, 'fit_loss': 'log'},\n",
    "                                                resplit_seed=_make_split(seed),\n",
    "                                               )\n",
    "    tP_kercal = res_df_.iloc[:, :NCLASS].values\n",
    "    tkcalp_res[seed] = peval.routine(tP_kercal, tY = res_df_['y'].values, nbins=NBINS)\n",
    "pd.DataFrame(tkcalp_res).T.describe().iloc[1:3]"
   ]
  },
  {
   "cell_type": "code",
   "execution_count": null,
   "id": "guided-classic",
   "metadata": {},
   "outputs": [],
   "source": []
  }
 ],
 "metadata": {
  "kernelspec": {
   "display_name": "Python 3",
   "language": "python",
   "name": "python3"
  },
  "language_info": {
   "codemirror_mode": {
    "name": "ipython",
    "version": 3
   },
   "file_extension": ".py",
   "mimetype": "text/x-python",
   "name": "python",
   "nbconvert_exporter": "python",
   "pygments_lexer": "ipython3",
   "version": "3.8.8"
  }
 },
 "nbformat": 4,
 "nbformat_minor": 5
}
